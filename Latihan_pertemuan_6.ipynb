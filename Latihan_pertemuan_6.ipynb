{
  "nbformat": 4,
  "nbformat_minor": 0,
  "metadata": {
    "colab": {
      "provenance": [],
      "authorship_tag": "ABX9TyMcUI6lwEMs8D5jOzPZOICd",
      "include_colab_link": true
    },
    "kernelspec": {
      "name": "python3",
      "display_name": "Python 3"
    },
    "language_info": {
      "name": "python"
    }
  },
  "cells": [
    {
      "cell_type": "markdown",
      "metadata": {
        "id": "view-in-github",
        "colab_type": "text"
      },
      "source": [
        "<a href=\"https://colab.research.google.com/github/azizrabbani2020-arch/latihan-praktikum-6/blob/main/Latihan_pertemuan_6.ipynb\" target=\"_parent\"><img src=\"https://colab.research.google.com/assets/colab-badge.svg\" alt=\"Open In Colab\"/></a>"
      ]
    },
    {
      "cell_type": "code",
      "execution_count": null,
      "metadata": {
        "colab": {
          "base_uri": "https://localhost:8080/"
        },
        "id": "zMVgwYcMA85H",
        "outputId": "8a9295d4-9c33-4c89-dd73-356801add3b0"
      },
      "outputs": [
        {
          "output_type": "stream",
          "name": "stdout",
          "text": [
            "Halo Abdul Aziz Rabbani\n"
          ]
        }
      ],
      "source": [
        "# SOAL 1: Fungsi Inisialisasi Sederhana\n",
        "def Biodata () :\n",
        "\n",
        "    print(\"Halo Abdul Aziz Rabbani\")\n",
        "\n",
        "# Pemanggilan:\n",
        "Biodata()"
      ]
    },
    {
      "cell_type": "code",
      "source": [
        "# SOAL 2: Menghitung Volume Kubus\n",
        "def hitung_volume_balok(Panjang,Lebar,Tinggi):\n",
        "    \"\"\"Menghitung volume balok dari Panjang x lebar x tinggi.\"\"\"\n",
        "    return Panjang*Lebar*Tinggi\n",
        "\n",
        "# Pemanggilan:\n",
        "panjang = 5\n",
        "lebar = 6\n",
        "tinggi = 7\n",
        "print(f\"Volume balok dengan ukuran {panjang}x{lebar}x{tinggi} adalah: {hitung_volume_balok(panjang, lebar, tinggi)}\")"
      ],
      "metadata": {
        "colab": {
          "base_uri": "https://localhost:8080/"
        },
        "id": "pNMwJ6E6K5YJ",
        "outputId": "5c098e32-1dda-4fab-8a8c-c65ea1318eb0"
      },
      "execution_count": null,
      "outputs": [
        {
          "output_type": "stream",
          "name": "stdout",
          "text": [
            "Volume balok dengan ukuran 5x6x7 adalah: 210\n"
          ]
        }
      ]
    },
    {
      "cell_type": "code",
      "source": [
        "# SOAL 3: Menghitung Rata-rata dari List Nilai\n",
        "def hitung_rata_rata(data_nilai):\n",
        "    \"\"\"\n",
        "    Menghitung rata-rata dari list angka menggunakan perulangan for.\n",
        "    Menambahkan pengecekan untuk nilai di bawah 0 atau di atas 100.\n",
        "    \"\"\"\n",
        "    total = 0\n",
        "    jumlah_data = 0\n",
        "\n",
        "    # Perulangan untuk menjumlahkan nilai\n",
        "    for nilai in data_nilai:\n",
        "        # Pengecekan nilai tidak valid\n",
        "        if nilai < 0 or nilai > 100:\n",
        "            print(f\"Nilai {nilai} diabaikan karena tidak valid.\")\n",
        "            continue  # lewati nilai ini\n",
        "\n",
        "        total += nilai\n",
        "        jumlah_data += 1\n",
        "\n",
        "    # Pembagian untuk rata-rata\n",
        "    if jumlah_data > 0:\n",
        "        return total / jumlah_data\n",
        "    return 0\n",
        "\n",
        "\n",
        "# Pemanggilan:\n",
        "nilai_praktikan = [85, 78, 92, 65, 90, -5, 105]\n",
        "print(f\"Nilai rata-rata kelas adalah: {hitung_rata_rata(nilai_praktikan)}\")\n"
      ],
      "metadata": {
        "colab": {
          "base_uri": "https://localhost:8080/"
        },
        "id": "0wcSYR7EpjpW",
        "outputId": "170c9632-365d-42e3-bcd4-457d604d0b8b"
      },
      "execution_count": null,
      "outputs": [
        {
          "output_type": "stream",
          "name": "stdout",
          "text": [
            "Nilai -5 diabaikan karena tidak valid.\n",
            "Nilai 105 diabaikan karena tidak valid.\n",
            "Nilai rata-rata kelas adalah: 82.0\n"
          ]
        }
      ]
    },
    {
      "cell_type": "code",
      "source": [
        "# SOAL 4: Sistem Penentuan Predikat Nilai\n",
        "def tentukan_predikat(skor):\n",
        "    \"\"\"Menentukan predikat (A, B, C, D, E) berdasarkan skor.\"\"\"\n",
        "    if not isinstance(skor, (int, float)):\n",
        "      return\n",
        "\n",
        "    if skor >= 85:\n",
        "        return \"A\"\n",
        "    elif skor >= 70:\n",
        "        return \"B\"\n",
        "    elif skor >= 60:\n",
        "        return \"C\"\n",
        "    elif skor >= 50:\n",
        "        return \"D\"\n",
        "    else:\n",
        "        return \"E\"\n",
        "\n",
        "# Pemanggilan:\n",
        "print(f\"Skor 75 mendapat predikat: {tentukan_predikat(100)}\")\n",
        "print(f\"Skor 48 mendapat predikat: {tentukan_predikat(48)}\")\n",
        "print(f\"skor (ABC) mendapat predikat: Input tidak valid! Harus berupa angka (int atau float). {tentukan_predikat('ABC')}\")"
      ],
      "metadata": {
        "colab": {
          "base_uri": "https://localhost:8080/"
        },
        "id": "Fq2t9mM7uRWD",
        "outputId": "edb66b06-1049-44c7-f415-6f6421e52b38"
      },
      "execution_count": null,
      "outputs": [
        {
          "output_type": "stream",
          "name": "stdout",
          "text": [
            "Skor 75 mendapat predikat: A\n",
            "Skor 48 mendapat predikat: E\n",
            "skor (ABC) mendapat predikat: Input tidak valid! Harus berupa angka (int atau float). None\n"
          ]
        }
      ]
    },
    {
      "cell_type": "code",
      "source": [
        "# SOAL 5: Menghitung Faktorial dengan Loop While\n",
        "def hitung_faktorial(n):\n",
        "    \"\"\"Menghitung faktorial dari bilangan positif n.\"\"\"\n",
        "\n",
        "    if n < 0:\n",
        "      return \"Error: Faktorial tidak terdefinisi untuk bilangan negatif.\"\n",
        "    if n == 0:\n",
        "      return 1\n",
        "\n",
        "    hasil = 1\n",
        "\n",
        "    # Perulangan berjalan selama n lebih besar dari 1\n",
        "    while n > 1:\n",
        "        hasil *= n\n",
        "        n -= 1  # Kurangi n\n",
        "    return hasil\n",
        "\n",
        "# Pemanggilan:\n",
        "bilangan_n = 4\n",
        "print(f\"Faktorial dari {bilangan_n} adalah: {hitung_faktorial(bilangan_n)}\")  # Output: 24\n",
        "print(f\"Faktorial dari 0 adalah: {hitung_faktorial(0)}\")  # Output: 1\n",
        "print(f\"Faktorial dari -1 adalah: {hitung_faktorial(-1)}\")"
      ],
      "metadata": {
        "colab": {
          "base_uri": "https://localhost:8080/"
        },
        "id": "6UWttWOfxOG9",
        "outputId": "f7afb37b-3ba1-4a4d-94d2-0ebdfe54325e"
      },
      "execution_count": null,
      "outputs": [
        {
          "output_type": "stream",
          "name": "stdout",
          "text": [
            "Faktorial dari 4 adalah: 24\n",
            "Faktorial dari 0 adalah: 1\n",
            "Faktorial dari -1 adalah: Error: Faktorial tidak terdefinisi untuk bilangan negatif.\n"
          ]
        }
      ]
    },
    {
      "cell_type": "code",
      "source": [
        "# SOAL 6: Analisis Data Suhu Ekstrem (for dan if/elif)\n",
        "def analisis_suhu(data_suhu, batas_panas=35, batas_dingin=15):\n",
        "    \"\"\"Menghitung jumlah hari Panas dan Dingin dari data_suhu.\"\"\"\n",
        "    panas_count = 0\n",
        "    dingin_count = 0\n",
        "\n",
        "    for suhu in data_suhu:\n",
        "        if suhu >= batas_panas:\n",
        "            panas_count += 1\n",
        "        elif suhu <= batas_dingin:\n",
        "            dingin_count += 1\n",
        "\n",
        "    return panas_count, dingin_count\n",
        "\n",
        "# Pemanggilan:\n",
        "suhu_mingguan = [36, 30, 14, 25, 38, 16, 28]\n",
        "jumlah_panas, jumlah_dingin = analisis_suhu(suhu_mingguan)\n",
        "print(f\"Jumlah hari Panas (>=35°C): {jumlah_panas}\")\n",
        "print(f\"Jumlah hari Dingin (<=15°C): {jumlah_dingin}\")\n",
        "jumlah_panas2, jumlah_dingin2 = analisis_suhu(suhu_mingguan, batas_panas=33, batas_dingin=18)\n",
        "print(\"\\nDengan batas disesuaikan:\")\n",
        "print(f\"Jumlah hari Panas (>=33°C): {jumlah_panas2}\")\n",
        "print(f\"Jumlah hari Dingin (<=18°C): {jumlah_dingin2}\")"
      ],
      "metadata": {
        "colab": {
          "base_uri": "https://localhost:8080/"
        },
        "id": "0HHTefJX07Qh",
        "outputId": "d7f47b69-de36-4dde-dd6e-eb641c802fe3"
      },
      "execution_count": null,
      "outputs": [
        {
          "output_type": "stream",
          "name": "stdout",
          "text": [
            "Jumlah hari Panas (>=35°C): 2\n",
            "Jumlah hari Dingin (<=15°C): 1\n",
            "\n",
            "Dengan batas disesuaikan:\n",
            "Jumlah hari Panas (>=33°C): 2\n",
            "Jumlah hari Dingin (<=18°C): 2\n"
          ]
        }
      ]
    }
  ]
}